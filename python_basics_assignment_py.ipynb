{
  "nbformat": 4,
  "nbformat_minor": 0,
  "metadata": {
    "colab": {
      "provenance": [],
      "authorship_tag": "ABX9TyNupBM/XI7mkqcuQV7kdCMa",
      "include_colab_link": true
    },
    "kernelspec": {
      "name": "python3",
      "display_name": "Python 3"
    },
    "language_info": {
      "name": "python"
    }
  },
  "cells": [
    {
      "cell_type": "markdown",
      "metadata": {
        "id": "view-in-github",
        "colab_type": "text"
      },
      "source": [
        "<a href=\"https://colab.research.google.com/github/AdilKhan-Analyst/AdilKhan-Analyst/blob/main/python_basics_assignment_py.ipynb\" target=\"_parent\"><img src=\"https://colab.research.google.com/assets/colab-badge.svg\" alt=\"Open In Colab\"/></a>"
      ]
    },
    {
      "cell_type": "markdown",
      "source": [],
      "metadata": {
        "id": "ctGgdc4HElFM"
      }
    },
    {
      "cell_type": "markdown",
      "source": [
        "# Python Basics Assignment\n",
        "## Part 1: Print Statement & Variables\n",
        "### Task 1: Printing Basic Information"
      ],
      "metadata": {
        "id": "7Fls26f5Ephs"
      }
    },
    {
      "cell_type": "code",
      "execution_count": 1,
      "metadata": {
        "colab": {
          "base_uri": "https://localhost:8080/"
        },
        "id": "1ynFGeFVATxN",
        "outputId": "d091e6d7-c79a-46ac-9240-42ec3d117d4a"
      },
      "outputs": [
        {
          "output_type": "stream",
          "name": "stdout",
          "text": [
            "Hello, my name is Adil\n",
            "I am 30 years old\n"
          ]
        }
      ],
      "source": [
        "name = \"Adil\"  # Assign a name\n",
        "age = 30       # Assign an age\n",
        "\n",
        "# Print statement to display the message\n",
        "print(\"Hello, my name is\", name)\n",
        "print(\"I am\", age, \"years old\")"
      ]
    },
    {
      "cell_type": "code",
      "source": [
        "city=\"Karachi\"\n",
        "PO_Box=\"12345\"\n",
        "print(\"My city is\", city)\n",
        "print(\"My PO Box is\", PO_Box)"
      ],
      "metadata": {
        "colab": {
          "base_uri": "https://localhost:8080/"
        },
        "id": "6da9J4S6BPs4",
        "outputId": "0196611c-e470-4820-c06d-c15603eab37a"
      },
      "execution_count": 2,
      "outputs": [
        {
          "output_type": "stream",
          "name": "stdout",
          "text": [
            "My city is Karachi\n",
            "My PO Box is 12345\n"
          ]
        }
      ]
    },
    {
      "cell_type": "code",
      "source": [
        "country=\"Pakistan\"\n",
        "zip_code=\"12345\"\n",
        "area=\"nazimabad\"\n",
        "language=\"python\"\n",
        "print(\"Hey, My country is\", country, \"& zipcode is\",zip_code, \"& area is\", area, \"& language is\", language)"
      ],
      "metadata": {
        "colab": {
          "base_uri": "https://localhost:8080/"
        },
        "id": "PyOCpkPbBhJX",
        "outputId": "cd994a76-3278-4c53-d719-c5a853576623"
      },
      "execution_count": 23,
      "outputs": [
        {
          "output_type": "stream",
          "name": "stdout",
          "text": [
            "Hey, My country is Pakistan & zipcode is 12345 & area is nazimabad & language is python\n"
          ]
        }
      ]
    },
    {
      "cell_type": "markdown",
      "source": [
        "### Task 2: Storing and Displaying Information\n"
      ],
      "metadata": {
        "id": "kvuW_SHkE4cA"
      }
    },
    {
      "cell_type": "code",
      "source": [
        "# Declaring variables\n",
        "student_name = \"Adil Khan\"       # Replace with your name\n",
        "course_name = \"Data Science & AI\"    # Replace with your course name\n",
        "institution_name = \"SMIT\"  # Replace with your institution name\n",
        "year_of_study = 2025               # Replace with your current year of study\n",
        "\n",
        "# Displaying the information\n",
        "print(\"Student Name:\", student_name)\n",
        "print(\"Course Name:\", course_name)\n",
        "print(\"Institution Name:\", institution_name)\n",
        "print(\"Year of Study:\", year_of_study)\n",
        "print(\"student name is\",student_name,\"& my course name is\",course_name,\"& institution name\",institution_name,\"& my year of study is\",year_of_study)"
      ],
      "metadata": {
        "colab": {
          "base_uri": "https://localhost:8080/"
        },
        "id": "_kVfEYmxFx3G",
        "outputId": "b312f8b1-7071-4c30-e2be-a69de7b429cc"
      },
      "execution_count": 26,
      "outputs": [
        {
          "output_type": "stream",
          "name": "stdout",
          "text": [
            "Student Name: Adil Khan\n",
            "Course Name: Data Science & AI\n",
            "Institution Name: SMIT\n",
            "Year of Study: 2025\n",
            "student name is Adil Khan & my course name is Data Science & AI & institution name SMIT & my year of study is 2025\n"
          ]
        }
      ]
    },
    {
      "cell_type": "markdown",
      "source": [
        "## Part 2: Mathematical Operations"
      ],
      "metadata": {
        "id": "O-xbz3h9GeVE"
      }
    },
    {
      "cell_type": "code",
      "source": [
        "a = 5\n",
        "b = 3\n",
        "result = a + b\n",
        "print(\"Addition:\", result)"
      ],
      "metadata": {
        "colab": {
          "base_uri": "https://localhost:8080/"
        },
        "id": "Lw5nqx9HGhL9",
        "outputId": "d307fea2-29c9-458f-dc4f-e235e777185d"
      },
      "execution_count": 27,
      "outputs": [
        {
          "output_type": "stream",
          "name": "stdout",
          "text": [
            "Addition: 8\n"
          ]
        }
      ]
    },
    {
      "cell_type": "code",
      "source": [
        "a = 5\n",
        "b = 3\n",
        "result=b-a\n",
        "print(\"subtraction:\",result)\n"
      ],
      "metadata": {
        "colab": {
          "base_uri": "https://localhost:8080/"
        },
        "id": "tQtEEBleGyVL",
        "outputId": "1aa1c99a-9d56-49d0-938d-1f9a5c57f95b"
      },
      "execution_count": 34,
      "outputs": [
        {
          "output_type": "stream",
          "name": "stdout",
          "text": [
            "subtraction: -2\n"
          ]
        }
      ]
    },
    {
      "cell_type": "code",
      "source": [
        "a = 5\n",
        "b = 3\n",
        "result=b*a\n",
        "print(\"multyply:\",result)\n"
      ],
      "metadata": {
        "colab": {
          "base_uri": "https://localhost:8080/"
        },
        "id": "dwgvjdSYHZTV",
        "outputId": "ace38eb5-051e-41aa-acba-73da36bc3d68"
      },
      "execution_count": 36,
      "outputs": [
        {
          "output_type": "stream",
          "name": "stdout",
          "text": [
            "multyply: 15\n"
          ]
        }
      ]
    },
    {
      "cell_type": "code",
      "source": [
        "result = a // b\n",
        "print(\"Floor Division:\", result)"
      ],
      "metadata": {
        "colab": {
          "base_uri": "https://localhost:8080/"
        },
        "id": "a9njD87yHwb_",
        "outputId": "5b9859d5-fa1e-47af-bec5-10fbed4aa771"
      },
      "execution_count": 37,
      "outputs": [
        {
          "output_type": "stream",
          "name": "stdout",
          "text": [
            "Floor Division: 1\n"
          ]
        }
      ]
    },
    {
      "cell_type": "code",
      "source": [],
      "metadata": {
        "id": "jBSEjP7VIMh5"
      },
      "execution_count": null,
      "outputs": []
    },
    {
      "cell_type": "code",
      "source": [
        "a = 5\n",
        "b = 3\n",
        "result = a % b\n",
        "print(\"Modulus:\", result)\n",
        "\n"
      ],
      "metadata": {
        "colab": {
          "base_uri": "https://localhost:8080/"
        },
        "id": "2vT0YpeuH24c",
        "outputId": "a345f20a-d500-4bf6-ca71-6d2931e62ca3"
      },
      "execution_count": 38,
      "outputs": [
        {
          "output_type": "stream",
          "name": "stdout",
          "text": [
            "Modulus: 2\n"
          ]
        }
      ]
    },
    {
      "cell_type": "code",
      "source": [
        "a = 5\n",
        "b = 3\n",
        "result = a ** b\n",
        "print(\"Exponentiation:\", result)"
      ],
      "metadata": {
        "colab": {
          "base_uri": "https://localhost:8080/"
        },
        "id": "2VU_O1r9IDXI",
        "outputId": "5fc31a6d-e870-42d6-d114-1103f1314024"
      },
      "execution_count": 39,
      "outputs": [
        {
          "output_type": "stream",
          "name": "stdout",
          "text": [
            "Exponentiation: 125\n"
          ]
        }
      ]
    },
    {
      "cell_type": "code",
      "source": [
        "num1 = 10\n",
        "num2 = 4\n",
        "\n",
        "# Perform different operations\n",
        "addition = num1 + num2\n",
        "subtraction = num1 - num2\n",
        "multiplication = num1 * num2\n",
        "division = num1 / num2\n",
        "modulus = num1 % num2\n",
        "exponentiation = num1 ** num2\n",
        "\n",
        "# Print the results\n",
        "print(\"Addition:\", addition)\n",
        "print(\"Subtraction:\", subtraction)\n",
        "print(\"Multiplication:\", multiplication)\n",
        "print(\"Division:\", division)\n",
        "print(\"Modulus:\", modulus)\n",
        "print(\"Exponentiation:\", exponentiation)"
      ],
      "metadata": {
        "colab": {
          "base_uri": "https://localhost:8080/"
        },
        "id": "rvATf1PoIWeQ",
        "outputId": "8cd715ea-185c-4b60-bf7d-613d784eccde"
      },
      "execution_count": 41,
      "outputs": [
        {
          "output_type": "stream",
          "name": "stdout",
          "text": [
            "Addition: 14\n",
            "Subtraction: 6\n",
            "Multiplication: 40\n",
            "Division: 2.5\n",
            "Modulus: 2\n",
            "Exponentiation: 10000\n"
          ]
        }
      ]
    },
    {
      "cell_type": "markdown",
      "source": [
        "# Calculating the area\n",
        "area = length * width\n",
        "\n"
      ],
      "metadata": {
        "id": "NYPsfei2IoK0"
      }
    },
    {
      "cell_type": "code",
      "source": [
        "length = 5\n",
        "width = 3\n",
        "\n",
        "area = length * width\n",
        "\n",
        "print(\"The area of the rectangle is:\", area)"
      ],
      "metadata": {
        "colab": {
          "base_uri": "https://localhost:8080/"
        },
        "id": "BMuJ2znkJFyq",
        "outputId": "dbfffebd-89fc-4e27-9763-91b3685c2e2a"
      },
      "execution_count": 42,
      "outputs": [
        {
          "output_type": "stream",
          "name": "stdout",
          "text": [
            "The area of the rectangle is: 15\n"
          ]
        }
      ]
    },
    {
      "cell_type": "markdown",
      "source": [
        "Part 3: String Slicing & Methods"
      ],
      "metadata": {
        "id": "KS9R9sWDKTOJ"
      }
    },
    {
      "cell_type": "code",
      "source": [
        "text = \"Hello, World!\"\n",
        "print(text[:5])\n",
        "print(text[7:])\n",
        "print(text[::2])\n",
        "print(text[::-1])\n",
        "print(text[2:])\n",
        "print(text.upper())\n",
        "print(text.replace(\"World\", \"Python\"))\n",
        "print(text.split(\", \"))\n",
        "print(text.find(\"World\"))"
      ],
      "metadata": {
        "colab": {
          "base_uri": "https://localhost:8080/"
        },
        "id": "G6bYgbHxKaQ6",
        "outputId": "a95a7d80-6955-46e3-9b2d-6f9b4fd18850"
      },
      "execution_count": 61,
      "outputs": [
        {
          "output_type": "stream",
          "name": "stdout",
          "text": [
            "Hello\n",
            "World!\n",
            "Hlo ol!\n",
            "!dlroW ,olleH\n",
            "llo, World!\n",
            "HELLO, WORLD!\n",
            "Hello, Python!\n",
            "['Hello', 'World!']\n",
            "7\n"
          ]
        }
      ]
    },
    {
      "cell_type": "code",
      "source": [],
      "metadata": {
        "colab": {
          "base_uri": "https://localhost:8080/",
          "height": 106
        },
        "id": "BvZ_7twPQHZE",
        "outputId": "81722373-8192-4966-b2b0-4669d896a210"
      },
      "execution_count": 63,
      "outputs": [
        {
          "output_type": "error",
          "ename": "SyntaxError",
          "evalue": "unterminated string literal (detected at line 5) (<ipython-input-63-95e9bf3d18d0>, line 5)",
          "traceback": [
            "\u001b[0;36m  File \u001b[0;32m\"<ipython-input-63-95e9bf3d18d0>\"\u001b[0;36m, line \u001b[0;32m5\u001b[0m\n\u001b[0;31m    print(\"Uppercase:\", text.upper())  '\u001b[0m\n\u001b[0m                                       ^\u001b[0m\n\u001b[0;31mSyntaxError\u001b[0m\u001b[0;31m:\u001b[0m unterminated string literal (detected at line 5)\n"
          ]
        }
      ]
    }
  ]
}
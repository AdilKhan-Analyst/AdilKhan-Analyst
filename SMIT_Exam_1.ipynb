{
  "nbformat": 4,
  "nbformat_minor": 0,
  "metadata": {
    "colab": {
      "provenance": [],
      "authorship_tag": "ABX9TyM8Yvih8VfvEjSATShhaI6V",
      "include_colab_link": true
    },
    "kernelspec": {
      "name": "python3",
      "display_name": "Python 3"
    },
    "language_info": {
      "name": "python"
    }
  },
  "cells": [
    {
      "cell_type": "markdown",
      "metadata": {
        "id": "view-in-github",
        "colab_type": "text"
      },
      "source": [
        "<a href=\"https://colab.research.google.com/github/AdilKhan-Analyst/AdilKhan-Analyst/blob/main/SMIT_Exam_1.ipynb\" target=\"_parent\"><img src=\"https://colab.research.google.com/assets/colab-badge.svg\" alt=\"Open In Colab\"/></a>"
      ]
    },
    {
      "cell_type": "markdown",
      "source": [
        "Step 1: Input Data\n",
        "Create a list of customer baskets. Each basket is a list of (item, quantity) tuples."
      ],
      "metadata": {
        "id": "QKzN23GfXDG8"
      }
    },
    {
      "cell_type": "code",
      "execution_count": 2,
      "metadata": {
        "id": "oDrCizcPVoVn"
      },
      "outputs": [],
      "source": [
        "baskets = [\n",
        "    [(\"Apples\", 5), (\"Bananas\", 12), (\"Oranges\", 3)],\n",
        "    [(\"Milk\", 2), (\"Bread\", 1), (\"Eggs\", 12)],\n",
        "    [(\"Bananas\", 6), (\"Apples\", 4), (\"Eggs\", 8)]\n",
        "]\n",
        "\n"
      ]
    },
    {
      "cell_type": "markdown",
      "source": [
        "Step 2: Initialize a Set\n",
        "Create an empty set to store unique item names.\n",
        "\n",
        "python\n",
        "Copy\n",
        "Edit\n"
      ],
      "metadata": {
        "id": "Z8mVJPMQXp4Y"
      }
    },
    {
      "cell_type": "code",
      "source": [
        "unique_items = set()\n"
      ],
      "metadata": {
        "id": "zv1pMVdFXufW"
      },
      "execution_count": null,
      "outputs": []
    },
    {
      "cell_type": "markdown",
      "source": [
        "Step 3: Analyze Each Basket\n",
        "Use a for loop to go through each customer's basket:\n",
        "\n",
        "Check if any item has quantity > 10\n",
        "\n",
        "Print warning if so\n",
        "\n",
        "Add quantities to get total for that basket\n",
        "\n",
        "Add item names to the unique_items set"
      ],
      "metadata": {
        "id": "nRcTL4nOYBU6"
      }
    },
    {
      "cell_type": "markdown",
      "source": [
        "tep 1: Create a list of baskets (each is a list of (item, quantity))\n",
        "Step 2: Use a set to track unique items\n",
        "Step 3: Loop through each basket:\n",
        "\n",
        "Check for quantity > 10\n",
        "\n",
        "Sum quantities\n",
        "\n",
        "Add item to set\n",
        "Step 4: Print warnings and total per basket\n",
        "Step 5: Print unique items and their total count"
      ],
      "metadata": {
        "id": "sH4NR1z8bgd7"
      }
    },
    {
      "cell_type": "code",
      "source": [
        "for i, basket in enumerate(baskets, start=1):\n",
        "    print(f\"\\nCustomer {i}'s basket:\")\n",
        ""
      ],
      "metadata": {
        "colab": {
          "base_uri": "https://localhost:8080/"
        },
        "id": "wJsLwx9mYoCP",
        "outputId": "a452a724-fe4a-418f-d3cc-8059ba3c3e9c"
      },
      "execution_count": 4,
      "outputs": [
        {
          "output_type": "stream",
          "name": "stdout",
          "text": [
            "\n",
            "Customer 1's basket:\n",
            "\n",
            "Customer 2's basket:\n",
            "\n",
            "Customer 3's basket:\n"
          ]
        }
      ]
    },
    {
      "cell_type": "code",
      "source": [
        "baskets = [\n",
        "    [(\"Apples\", 5), (\"Bananas\", 12), (\"Oranges\", 3)],\n",
        "    [(\"Milk\", 2), (\"Bread\", 1), (\"Eggs\", 12)],\n",
        "    [(\"Bananas\", 6), (\"Apples\", 4), (\"Eggs\", 8)]\n",
        "]\n",
        "\n",
        "unique_items = set()\n",
        "\n",
        "for i, basket in enumerate(baskets, start=1):\n",
        "    print(f\"\\nCustomer {i}'s basket:\")\n",
        "    total_quantity = 0\n",
        "    for item, quantity in basket:\n",
        "        if quantity > 10:\n",
        "            print(f\"⚠️  Item '{item}' exceeds the purchase limit!\")\n",
        "        total_quantity += quantity\n",
        "        unique_items.add(item)\n",
        "    print(f\"Total quantity of items: {total_quantity}\")\n",
        "\n",
        "print(\"\\n--- Summary ---\")\n",
        "print(f\"Unique items purchased: {unique_items}\")\n",
        "print(f\"Total different types of items: {len(unique_items)}\")"
      ],
      "metadata": {
        "colab": {
          "base_uri": "https://localhost:8080/"
        },
        "id": "CF_xclKpaVeS",
        "outputId": "864508a3-17bf-4318-a199-3ecbc4245750"
      },
      "execution_count": 7,
      "outputs": [
        {
          "output_type": "stream",
          "name": "stdout",
          "text": [
            "\n",
            "Customer 1's basket:\n",
            "⚠️  Item 'Bananas' exceeds the purchase limit!\n",
            "Total quantity of items: 20\n",
            "\n",
            "Customer 2's basket:\n",
            "⚠️  Item 'Eggs' exceeds the purchase limit!\n",
            "Total quantity of items: 15\n",
            "\n",
            "Customer 3's basket:\n",
            "Total quantity of items: 18\n",
            "\n",
            "--- Summary ---\n",
            "Unique items purchased: {'Apples', 'Milk', 'Bread', 'Bananas', 'Eggs', 'Oranges'}\n",
            "Total different types of items: 6\n"
          ]
        }
      ]
    },
    {
      "cell_type": "markdown",
      "source": [
        "🔹 Problem Statement\n",
        "You are creating a Python program to analyze student exam scores. Each student is represented as (name, score out of 100). The program must:\n",
        "\n",
        "Classify students:\n",
        "\n",
        "Excellent (score ≥ 85)\n",
        "\n",
        "Good (70 ≤ score < 85)\n",
        "\n",
        "Average (50 ≤ score < 70)\n",
        "\n",
        "Poor (score < 50)\n",
        "\n",
        "Display students in each category.\n",
        "\n",
        "Store unique names using a set.\n",
        "\n",
        "Display total and unique student counts."
      ],
      "metadata": {
        "id": "iXjxP6biawr6"
      }
    },
    {
      "cell_type": "markdown",
      "source": [
        "Step-by-Step Workflow\n",
        "Step 1: Create a list of (name, score) tuples\n",
        "Step 2: Use a dictionary for categories and a set for unique names\n",
        "Step 3: Loop through students:\n",
        "\n",
        "Classify into category\n",
        "\n",
        "Add to set\n",
        "Step 4: Display each category\n",
        "Step 5: Show total records and unique names"
      ],
      "metadata": {
        "id": "lzUWr0YIa5o_"
      }
    },
    {
      "cell_type": "code",
      "source": [
        "students = [\n",
        "    (\"Ali\", 92), (\"Sara\", 76), (\"Ahmed\", 65), (\"Fatima\", 48),\n",
        "    (\"Zain\", 85), (\"Ali\", 92), (\"Hina\", 34), (\"Omar\", 70),\n",
        "    (\"Sana\", 55), (\"Tariq\", 81)\n",
        "]\n",
        "\n",
        "categories = {\n",
        "    \"Excellent\": [],\n",
        "    \"Good\": [],\n",
        "    \"Average\": [],\n",
        "    \"Poor\": []\n",
        "}\n",
        "\n",
        "unique_names = set()\n",
        "\n",
        "for name, score in students:\n",
        "    unique_names.add(name)\n",
        "    if score >= 85:\n",
        "        categories[\"Excellent\"].append(name)\n",
        "    elif score >= 70:\n",
        "        categories[\"Good\"].append(name)\n",
        "    elif score >= 50:\n",
        "        categories[\"Average\"].append(name)\n",
        "    else:\n",
        "        categories[\"Poor\"].append(name)\n",
        "\n",
        "print(\"Student Performance Categories:\\n\")\n",
        "for category, names in categories.items():\n",
        "    print(f\"{category} ({len(names)} students): {', '.join(names)}\")\n",
        "\n",
        "print(\"\\n--- Summary ---\")\n",
        "print(f\"Total number of student records: {len(students)}\")\n",
        "print(f\"Number of unique students: {len(unique_names)}\")"
      ],
      "metadata": {
        "colab": {
          "base_uri": "https://localhost:8080/"
        },
        "id": "V0NYVGsba9tM",
        "outputId": "fc6adac7-6111-42e3-88ac-d4fb63195c1f"
      },
      "execution_count": 6,
      "outputs": [
        {
          "output_type": "stream",
          "name": "stdout",
          "text": [
            "Student Performance Categories:\n",
            "\n",
            "Excellent (3 students): Ali, Zain, Ali\n",
            "Good (3 students): Sara, Omar, Tariq\n",
            "Average (2 students): Ahmed, Sana\n",
            "Poor (2 students): Fatima, Hina\n",
            "\n",
            "--- Summary ---\n",
            "Total number of student records: 10\n",
            "Number of unique students: 9\n"
          ]
        }
      ]
    }
  ]
}
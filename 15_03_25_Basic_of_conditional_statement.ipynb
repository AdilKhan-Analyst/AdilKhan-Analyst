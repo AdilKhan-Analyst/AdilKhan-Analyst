{
  "nbformat": 4,
  "nbformat_minor": 0,
  "metadata": {
    "colab": {
      "provenance": [],
      "authorship_tag": "ABX9TyMtpFNBNfh3+AmutqaJPUOh",
      "include_colab_link": true
    },
    "kernelspec": {
      "name": "python3",
      "display_name": "Python 3"
    },
    "language_info": {
      "name": "python"
    }
  },
  "cells": [
    {
      "cell_type": "markdown",
      "metadata": {
        "id": "view-in-github",
        "colab_type": "text"
      },
      "source": [
        "<a href=\"https://colab.research.google.com/github/AdilKhan-Analyst/AdilKhan-Analyst/blob/main/15_03_25_Basic_of_conditional_statement.ipynb\" target=\"_parent\"><img src=\"https://colab.research.google.com/assets/colab-badge.svg\" alt=\"Open In Colab\"/></a>"
      ]
    },
    {
      "cell_type": "code",
      "execution_count": 1,
      "metadata": {
        "colab": {
          "base_uri": "https://localhost:8080/"
        },
        "id": "tRbf0iHwYYLU",
        "outputId": "d336dfb5-4e80-40f0-fdf3-140f8d845075"
      },
      "outputs": [
        {
          "output_type": "stream",
          "name": "stdout",
          "text": [
            "enter your name: Adil Hassan Khan\n",
            "enter your age: 40\n",
            "My name is Adil Hassan Khan and my age is 40\n"
          ]
        }
      ],
      "source": [
        "name = input(\"enter your name: \")\n",
        "age = int(input(\"enter your age: \"))\n",
        "print(f\"My name is {name} and my age is {age}\")"
      ]
    },
    {
      "cell_type": "markdown",
      "source": [
        "Create two variables first_name and last_name, assign them your first and last name, and print them together as a full name.\n"
      ],
      "metadata": {
        "id": "Em9X_pqIZlEh"
      }
    },
    {
      "cell_type": "code",
      "source": [
        "fname = input(\"enter your name: \")\n",
        "lname = input(\"enteryour last name: \")\n",
        "fulname = fname + \" \" + lname\n",
        "print(f\"My full name is {fulname}.\")"
      ],
      "metadata": {
        "colab": {
          "base_uri": "https://localhost:8080/"
        },
        "id": "YFfAqWGiZnj2",
        "outputId": "866efa5d-034e-4e03-e1b4-c088a22c1948"
      },
      "execution_count": 4,
      "outputs": [
        {
          "output_type": "stream",
          "name": "stdout",
          "text": [
            "enter your name: Adil\n",
            "enteryour last name: Khan\n",
            "My full name is Adil Khan.\n"
          ]
        }
      ]
    },
    {
      "cell_type": "markdown",
      "source": [
        ". Assign two numbers to variables and print their sum, difference, product, and quotient."
      ],
      "metadata": {
        "id": "zs8uAgutb2jf"
      }
    },
    {
      "cell_type": "markdown",
      "source": [
        " Take User Input for Arithmetic Operations"
      ],
      "metadata": {
        "id": "qCrtDrh_b99j"
      }
    },
    {
      "cell_type": "code",
      "source": [
        "num1 = int(input(\"enter first number: \"))\n",
        "num2 = int(input(\"enter second number: \"))\n",
        "addition = num1 + num2\n",
        "subtraction = num1 - num2\n",
        "multiplication = num1 * num2\n",
        "division = num1 / num2\n",
        "print(f\"addition: {addition}, subtraction: {subtraction}, multiplication: {multiplication}, division: {division}\")"
      ],
      "metadata": {
        "colab": {
          "base_uri": "https://localhost:8080/"
        },
        "id": "mgBXFR-1cMFk",
        "outputId": "ea3a6eb8-4d7c-4fc0-edd0-f70b2d332c10"
      },
      "execution_count": 5,
      "outputs": [
        {
          "output_type": "stream",
          "name": "stdout",
          "text": [
            "enter first number: 42\n",
            "enter second number: 66\n",
            "addition: 108, subtraction: -24, multiplication: 2772, division: 0.6363636363636364\n"
          ]
        }
      ]
    },
    {
      "cell_type": "markdown",
      "source": [
        "4. Convert an integer value to a string and print it along with a message. Example:"
      ],
      "metadata": {
        "id": "r3pEWXuzdEFo"
      }
    },
    {
      "cell_type": "markdown",
      "source": [
        "\"The number is 25\"."
      ],
      "metadata": {
        "id": "rlFHqE_cdI-k"
      }
    },
    {
      "cell_type": "code",
      "source": [
        "num:str = str(25)\n",
        "print(f'\"The number is  {str(num)}\"')\n",
        "print(type(num))\n"
      ],
      "metadata": {
        "colab": {
          "base_uri": "https://localhost:8080/"
        },
        "id": "SOicJl3YdNvZ",
        "outputId": "e2e2af47-1f6b-432b-fb42-d53a56c1d5a0"
      },
      "execution_count": 6,
      "outputs": [
        {
          "output_type": "stream",
          "name": "stdout",
          "text": [
            "\"The number is  25\"\n",
            "<class 'str'>\n"
          ]
        }
      ]
    },
    {
      "cell_type": "markdown",
      "source": [
        "# **5. Convert String to Integer and Add 50**"
      ],
      "metadata": {
        "id": "42yksffZeshA"
      }
    },
    {
      "cell_type": "code",
      "source": [
        "num_str:int = \"563\"\n",
        "num_str = int(num_str)\n",
        "print(type(num_str))\n",
        "print(num_str + 850)"
      ],
      "metadata": {
        "colab": {
          "base_uri": "https://localhost:8080/"
        },
        "id": "5qn86ZO6d2sE",
        "outputId": "9c757841-e3ef-482f-ba40-a49fc4948eeb"
      },
      "execution_count": 7,
      "outputs": [
        {
          "output_type": "stream",
          "name": "stdout",
          "text": [
            "<class 'int'>\n",
            "1413\n"
          ]
        }
      ]
    },
    {
      "cell_type": "markdown",
      "source": [
        "Swap Two Variables Without Using a Third Variable"
      ],
      "metadata": {
        "id": "aY9Px7mxeES8"
      }
    },
    {
      "cell_type": "code",
      "source": [
        "a = 12\n",
        "b = 10\n",
        "\n",
        "print(f\"before swapping: a = {a}, b = {b}\")\n",
        "\n",
        "a, b = b, a\n",
        "\n",
        "print(f\"after swapping: a = {a}, b = {b}\")"
      ],
      "metadata": {
        "colab": {
          "base_uri": "https://localhost:8080/"
        },
        "id": "7aet8FvceGnJ",
        "outputId": "57fd4a5b-a742-4899-e2c2-e34d81e3f473"
      },
      "execution_count": 8,
      "outputs": [
        {
          "output_type": "stream",
          "name": "stdout",
          "text": [
            "before swapping: a = 12, b = 10\n",
            "after swapping: a = 10, b = 12\n"
          ]
        }
      ]
    },
    {
      "cell_type": "markdown",
      "source": [
        "# **Variables**"
      ],
      "metadata": {
        "id": "ceGnTQV3ejsm"
      }
    },
    {
      "cell_type": "markdown",
      "source": [],
      "metadata": {
        "id": "2Gk6I3Ohkpbd"
      }
    },
    {
      "cell_type": "markdown",
      "source": [
        "Make a variable of string of 10 charactors and slice the string according to user input."
      ],
      "metadata": {
        "id": "R-yLYTs1kpfI"
      }
    },
    {
      "cell_type": "markdown",
      "source": [
        "\n",
        "\n"
      ],
      "metadata": {
        "id": "hLrVk4tEdaX3"
      }
    },
    {
      "cell_type": "code",
      "source": [
        "my_string: str = ['abcdefghij']\n",
        "\n",
        "start_input = int(input(\"enter start index number between (1:10)  \"))-1\n",
        "end_input = int(input(\"enter end index number between (1:10)  \"))-1\n",
        "\n",
        "print(my_string[start_input: end_input])"
      ],
      "metadata": {
        "colab": {
          "base_uri": "https://localhost:8080/"
        },
        "id": "cMWuAUrEkuiy",
        "outputId": "bc033df6-3d57-44d6-9d79-b09ffb229d6f"
      },
      "execution_count": 10,
      "outputs": [
        {
          "output_type": "stream",
          "name": "stdout",
          "text": [
            "enter start index number between (1:10)  1\n",
            "enter end index number between (1:10)  10\n",
            "['abcdefghij']\n"
          ]
        }
      ]
    },
    {
      "cell_type": "markdown",
      "source": [
        "Write a Python program that takes marks of 4 subjects from user. Calculate the percentage and Print the result according to the percentage\n"
      ],
      "metadata": {
        "id": "TBJEDwvHm0rM"
      }
    },
    {
      "cell_type": "code",
      "source": [
        "english = int(input(\"enter english marks: \"))\n",
        "maths = int(input(\"enter maths marks: \"))\n",
        "urdu = int(input(\"enter urdu marks: \"))\n",
        "science = int(input(\"enter science marks: \"))\n",
        "\n",
        "obt_marks = english + maths + urdu + science\n",
        "total_marks = 400\n",
        "per = round((obt_marks/total_marks)*100,2)\n",
        "print(f\"your percentage is {per}%\")"
      ],
      "metadata": {
        "colab": {
          "base_uri": "https://localhost:8080/"
        },
        "id": "S5sxX_WRncQu",
        "outputId": "2e39fc28-3f01-400b-e6bd-803ee2088049"
      },
      "execution_count": 12,
      "outputs": [
        {
          "output_type": "stream",
          "name": "stdout",
          "text": [
            "enter english marks: 50\n",
            "enter maths marks: 60\n",
            "enter urdu marks: 70\n",
            "enter science marks: 80\n",
            "your percentage is 65.0%\n"
          ]
        }
      ]
    },
    {
      "cell_type": "markdown",
      "source": [
        "Assign two values to two variables and perform arithmetic operation between them"
      ],
      "metadata": {
        "id": "flcVkHCDeqUa"
      }
    },
    {
      "cell_type": "code",
      "source": [
        "num_1 = 6\n",
        "num_2 = 3\n",
        "addition = num_1 + num_2\n",
        "subtraction = num_1 - num_2\n",
        "multiplication = num_1 * num_2\n",
        "division = num_1 / num_2\n",
        "print(addition, subtraction, multiplication, division)"
      ],
      "metadata": {
        "colab": {
          "base_uri": "https://localhost:8080/"
        },
        "id": "nacgsNuAexTY",
        "outputId": "3d7844ce-910f-49b6-900b-bcaf393e8cb1"
      },
      "execution_count": 9,
      "outputs": [
        {
          "output_type": "stream",
          "name": "stdout",
          "text": [
            "9 3 18 2.0\n"
          ]
        }
      ]
    },
    {
      "cell_type": "markdown",
      "source": [],
      "metadata": {
        "id": "82mX1lM1fN2D"
      }
    },
    {
      "cell_type": "markdown",
      "source": [
        "## marksheet"
      ],
      "metadata": {
        "id": "aREdEhjioOG6"
      }
    },
    {
      "cell_type": "code",
      "source": [
        "english = int(input(\"Enter English marks: \"))\n",
        "maths = int(input(\"Enter Maths marks: \"))\n",
        "urdu = int(input(\"Enter Urdu marks: \"))\n",
        "science = int(input(\"Enter Science marks: \"))\n",
        "\n",
        "obt_marks = english + maths + urdu + science\n",
        "total_marks = 400\n",
        "per = (obt_marks / total_marks) * 100  # Removed extra indentation\n",
        "if per >= 80:\n",
        "    print(\"Your grade is A+\")\n",
        "elif per >= 70:\n",
        "    print(\"Your grade is A\")\n",
        "elif per >= 60:\n",
        "    print(\"Your grade is B\")\n",
        "elif per >= 50:\n",
        "    print(\"Your grade is C\")\n",
        "else:\n",
        "    print(\"Sorry! You have failed\")\n"
      ],
      "metadata": {
        "colab": {
          "base_uri": "https://localhost:8080/"
        },
        "id": "kYh8EehwoT76",
        "outputId": "ecc29ac9-f9bc-4e8c-eb65-0142d4441405"
      },
      "execution_count": 14,
      "outputs": [
        {
          "output_type": "stream",
          "name": "stdout",
          "text": [
            "Enter English marks: 50\n",
            "Enter Maths marks: 45\n",
            "Enter Urdu marks: 70\n",
            "Enter Science marks: 80\n",
            "Your grade is B\n"
          ]
        }
      ]
    }
  ]
}